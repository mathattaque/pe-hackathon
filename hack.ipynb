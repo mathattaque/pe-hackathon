{
 "cells": [
  {
   "cell_type": "code",
   "execution_count": 4,
   "id": "42d32aec",
   "metadata": {},
   "outputs": [],
   "source": [
    "import pandas as pd"
   ]
  },
  {
   "cell_type": "code",
   "execution_count": 6,
   "id": "14a2be51",
   "metadata": {},
   "outputs": [],
   "source": [
    "df=pd.read_csv(\"apple.csv\")"
   ]
  },
  {
   "cell_type": "code",
   "execution_count": 7,
   "id": "6de52d38",
   "metadata": {},
   "outputs": [
    {
     "data": {
      "text/html": [
       "<div>\n",
       "<style scoped>\n",
       "    .dataframe tbody tr th:only-of-type {\n",
       "        vertical-align: middle;\n",
       "    }\n",
       "\n",
       "    .dataframe tbody tr th {\n",
       "        vertical-align: top;\n",
       "    }\n",
       "\n",
       "    .dataframe thead th {\n",
       "        text-align: right;\n",
       "    }\n",
       "</style>\n",
       "<table border=\"1\" class=\"dataframe\">\n",
       "  <thead>\n",
       "    <tr style=\"text-align: right;\">\n",
       "      <th></th>\n",
       "      <th>Date</th>\n",
       "      <th>Close/Last</th>\n",
       "      <th>Volume</th>\n",
       "      <th>Open</th>\n",
       "      <th>High</th>\n",
       "      <th>Low</th>\n",
       "    </tr>\n",
       "  </thead>\n",
       "  <tbody>\n",
       "    <tr>\n",
       "      <th>0</th>\n",
       "      <td>10/30/2023</td>\n",
       "      <td>$170.29</td>\n",
       "      <td>51130960</td>\n",
       "      <td>$169.02</td>\n",
       "      <td>$171.17</td>\n",
       "      <td>$168.87</td>\n",
       "    </tr>\n",
       "    <tr>\n",
       "      <th>1</th>\n",
       "      <td>10/27/2023</td>\n",
       "      <td>$168.22</td>\n",
       "      <td>58499130</td>\n",
       "      <td>$166.91</td>\n",
       "      <td>$168.96</td>\n",
       "      <td>$166.83</td>\n",
       "    </tr>\n",
       "    <tr>\n",
       "      <th>2</th>\n",
       "      <td>10/26/2023</td>\n",
       "      <td>$166.89</td>\n",
       "      <td>70625260</td>\n",
       "      <td>$170.37</td>\n",
       "      <td>$171.3775</td>\n",
       "      <td>$165.67</td>\n",
       "    </tr>\n",
       "  </tbody>\n",
       "</table>\n",
       "</div>"
      ],
      "text/plain": [
       "         Date Close/Last    Volume     Open       High      Low\n",
       "0  10/30/2023    $170.29  51130960  $169.02    $171.17  $168.87\n",
       "1  10/27/2023    $168.22  58499130  $166.91    $168.96  $166.83\n",
       "2  10/26/2023    $166.89  70625260  $170.37  $171.3775  $165.67"
      ]
     },
     "execution_count": 7,
     "metadata": {},
     "output_type": "execute_result"
    }
   ],
   "source": [
    "df.head(3)"
   ]
  },
  {
   "cell_type": "code",
   "execution_count": null,
   "id": "1f9ad117",
   "metadata": {},
   "outputs": [],
   "source": []
   "execution_count": 1,
   "id": "42d32aec",
   "metadata": {},
   "outputs": [
    {
     "name": "stdout",
     "output_type": "stream",
     "text": [
      "hello world\n"
     ]
    }
   ],
   "source": [
    "print(\"hello world\")"
   ]
  }
 ],
 "metadata": {
  "kernelspec": {
   "display_name": "Python 3 (ipykernel)",
   "language": "python",
   "name": "python3"
  },
  "language_info": {
   "codemirror_mode": {
    "name": "ipython",
    "version": 3
   },
   "file_extension": ".py",
   "mimetype": "text/x-python",
   "name": "python",
   "nbconvert_exporter": "python",
   "pygments_lexer": "ipython3",
   "version": "3.11.4"
  }
 },
 "nbformat": 4,
 "nbformat_minor": 5
}
